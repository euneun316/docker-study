{
 "cells": [
  {
   "cell_type": "code",
   "execution_count": 1,
   "id": "acf54290",
   "metadata": {},
   "outputs": [
    {
     "name": "stderr",
     "output_type": "stream",
     "text": [
      "22/02/21 06:20:25 WARN NativeCodeLoader: Unable to load native-hadoop library for your platform... using builtin-java classes where applicable\n",
      "Using Spark's default log4j profile: org/apache/spark/log4j-defaults.properties\n",
      "Setting default log level to \"WARN\".\n",
      "To adjust logging level use sc.setLogLevel(newLevel). For SparkR, use setLogLevel(newLevel).\n"
     ]
    }
   ],
   "source": [
    "from pyspark import SparkContext, SparkConf, SQLContext\n",
    "\n",
    "conf = SparkConf() \\\n",
    "    .setAppName(\"test_JDBC2\") \\\n",
    "    .setMaster(\"spark://spark-master:7077\") \\\n",
    "    .set(\"spark.jars\", \"/opt/workspace/jars/mysql-connector-java-8.0.21.jar\")\n",
    "\n",
    "sc = SparkContext(conf=conf)\n",
    "sqlContext = SQLContext(sc)\n",
    "spark = sqlContext.sparkSession"
   ]
  },
  {
   "cell_type": "code",
   "execution_count": 2,
   "id": "8fe0e901",
   "metadata": {},
   "outputs": [],
   "source": [
    "df = spark.read.format(\"jdbc\") \\\n",
    "                .option(\"driver\", \"com.mysql.cj.jdbc.Driver\") \\\n",
    "                .option(\"url\", \"jdbc:mysql://mysql2:3306/employee?serverTimezone=UTC&useSSL=false\") \\\n",
    "                .option(\"dbtable\", \"dept_csv\") \\\n",
    "                .option(\"user\", \"root\") \\\n",
    "                .option(\"password\", \"1234\") \\\n",
    "                .load()"
   ]
  },
  {
   "cell_type": "code",
   "execution_count": 3,
   "id": "b33f3647",
   "metadata": {},
   "outputs": [
    {
     "name": "stderr",
     "output_type": "stream",
     "text": [
      "                                                                                \r"
     ]
    },
    {
     "name": "stdout",
     "output_type": "stream",
     "text": [
      "+----------+--------+------+\n",
      "|     dname|     loc|deptno|\n",
      "+----------+--------+------+\n",
      "|ACCOUNTING|NEW YORK|    10|\n",
      "|  RESEARCH|  DALLAS|    20|\n",
      "|     SALES| CHICAGO|    30|\n",
      "|OPERATIONS|  BOSTON|    40|\n",
      "| MARKETING|   SUWON|    50|\n",
      "|        IT| GWANGYO|    60|\n",
      "|    HEALTH|   SEOUL|    70|\n",
      "|      ARTS|   BUSAN|    80|\n",
      "+----------+--------+------+\n",
      "\n"
     ]
    }
   ],
   "source": [
    "df.show()"
   ]
  },
  {
   "cell_type": "code",
   "execution_count": 4,
   "id": "cccef8ff",
   "metadata": {},
   "outputs": [
    {
     "name": "stderr",
     "output_type": "stream",
     "text": [
      "[Stage 2:>                                                          (0 + 1) / 1]\r"
     ]
    },
    {
     "name": "stdout",
     "output_type": "stream",
     "text": [
      "+-----+-----+------+\n",
      "|dname|loc  |deptno|\n",
      "+-----+-----+------+\n",
      "|NURSE|SEOUL|90    |\n",
      "+-----+-----+------+\n",
      "\n"
     ]
    },
    {
     "name": "stderr",
     "output_type": "stream",
     "text": [
      "\r\n",
      "                                                                                \r"
     ]
    }
   ],
   "source": [
    "from pyspark.sql.types import StructType, StructField, StringType, IntegerType\n",
    "\n",
    "data = [(\"HISTORY\", \"SUWON\", 50)]\n",
    "\n",
    "schema = StructType([\n",
    "    StructField(\"dname\", StringType(),True),\n",
    "    StructField(\"loc\", StringType(),True),\n",
    "    StructField(\"deptno\", IntegerType(),True)\n",
    "  ])\n",
    " \n",
    "df_2 = spark.createDataFrame(data=data, schema=schema)\n",
    "# df_2.printSchema()\n",
    "df_2.show(truncate=False)"
   ]
  },
  {
   "cell_type": "code",
   "execution_count": 5,
   "id": "a30e028d",
   "metadata": {},
   "outputs": [
    {
     "name": "stderr",
     "output_type": "stream",
     "text": [
      "                                                                                \r"
     ]
    }
   ],
   "source": [
    "df_2.write.format('jdbc') \\\n",
    "    .mode('append') \\\n",
    "    .option(\"driver\", \"com.mysql.cj.jdbc.Driver\") \\\n",
    "    .option(\"url\", \"jdbc:mysql://mysql2:3306/employee?serverTimezone=UTC&useSSL=false\") \\\n",
    "    .option(\"dbtable\", \"dept_csv\") \\\n",
    "    .option(\"user\", \"root\") \\\n",
    "    .option(\"password\", \"1234\") \\\n",
    "    .save()"
   ]
  },
  {
   "cell_type": "code",
   "execution_count": 9,
   "id": "29c8c71f",
   "metadata": {},
   "outputs": [],
   "source": [
    "sc.stop()\n",
    "spark.stop()"
   ]
  }
 ],
 "metadata": {
  "kernelspec": {
   "display_name": "Python 3 (ipykernel)",
   "language": "python",
   "name": "python3"
  },
  "language_info": {
   "codemirror_mode": {
    "name": "ipython",
    "version": 3
   },
   "file_extension": ".py",
   "mimetype": "text/x-python",
   "name": "python",
   "nbconvert_exporter": "python",
   "pygments_lexer": "ipython3",
   "version": "3.9.2"
  }
 },
 "nbformat": 4,
 "nbformat_minor": 5
}
